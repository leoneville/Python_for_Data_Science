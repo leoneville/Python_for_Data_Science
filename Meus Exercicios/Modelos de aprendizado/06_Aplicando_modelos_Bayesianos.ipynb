{
 "cells": [
  {
   "cell_type": "code",
   "execution_count": 2,
   "metadata": {
    "collapsed": false
   },
   "outputs": [
    {
     "name": "stdout",
     "output_type": "stream",
     "text": [
      "[  0.      0.64    0.64    0.      0.32    0.      0.      0.      0.\n",
      "   0.      0.      0.64    0.      0.      0.      0.32    0.      1.29\n",
      "   1.93    0.      0.96    0.      0.      0.      0.      0.      0.\n",
      "   0.      0.      0.      0.      0.      0.      0.      0.      0.\n",
      "   0.      0.      0.      0.      0.      0.      0.      0.      0.\n",
      "   0.      0.      0.      0.      0.      0.      0.778   0.      0.\n",
      "   3.756  61.    278.      1.   ]\n"
     ]
    }
   ],
   "source": [
    "import numpy as np\n",
    "import urllib\n",
    "import sklearn\n",
    "\n",
    "from sklearn.naive_bayes import BernoulliNB, GaussianNB, MultinomialNB\n",
    "from sklearn.model_selection import train_test_split\n",
    "from sklearn.metrics import accuracy_score\n",
    "\n",
    "url = \"https://archive.ics.uci.edu/ml/machine-learning-databases/spambase/spambase.data\"\n",
    "raw_data = urllib.request.urlopen(url)\n",
    "dados = np.loadtxt(raw_data, delimiter=',')\n",
    "print(dados[0])"
   ]
  },
  {
   "cell_type": "code",
   "execution_count": 3,
   "metadata": {
    "collapsed": true
   },
   "outputs": [],
   "source": [
    "X = dados[:, :48]\n",
    "\n",
    "y = dados[:, -1]"
   ]
  },
  {
   "cell_type": "code",
   "execution_count": 4,
   "metadata": {
    "collapsed": true
   },
   "outputs": [],
   "source": [
    "X_treino, X_teste, y_treino, y_teste = train_test_split(X, y, test_size=.33, random_state=17)"
   ]
  },
  {
   "cell_type": "code",
   "execution_count": 6,
   "metadata": {
    "collapsed": false
   },
   "outputs": [
    {
     "name": "stdout",
     "output_type": "stream",
     "text": [
      "GaussianNB()\n",
      "0.8130348913759052\n"
     ]
    }
   ],
   "source": [
    "GausNB = GaussianNB().fit(X_treino, y_treino)\n",
    "print(GausNB)\n",
    "\n",
    "y_predito = GausNB.predict(X_teste)\n",
    "print(accuracy_score(y_teste, y_predito))"
   ]
  },
  {
   "cell_type": "code",
   "execution_count": 8,
   "metadata": {
    "collapsed": false
   },
   "outputs": [
    {
     "name": "stdout",
     "output_type": "stream",
     "text": [
      "MultinomialNB()\n",
      "0.8736010533245556\n"
     ]
    }
   ],
   "source": [
    "MultNB = MultinomialNB().fit(X_treino, y_treino)\n",
    "print(MultNB)\n",
    "\n",
    "y_predito = MultNB.predict(X_teste)\n",
    "print(accuracy_score(y_teste, y_predito))"
   ]
  },
  {
   "cell_type": "code",
   "execution_count": 10,
   "metadata": {
    "collapsed": false
   },
   "outputs": [
    {
     "name": "stdout",
     "output_type": "stream",
     "text": [
      "BernoulliNB(binarize=True)\n",
      "0.8558262014483212\n"
     ]
    }
   ],
   "source": [
    "BernNB = BernoulliNB(binarize=True).fit(X_treino, y_treino)\n",
    "print(BernNB)\n",
    "\n",
    "y_predito = BernNB.predict(X_teste)\n",
    "print(accuracy_score(y_teste, y_predito))"
   ]
  },
  {
   "cell_type": "code",
   "execution_count": 11,
   "metadata": {
    "collapsed": false
   },
   "outputs": [
    {
     "name": "stdout",
     "output_type": "stream",
     "text": [
      "BernoulliNB(binarize=0.1)\n",
      "0.8953258722843976\n"
     ]
    }
   ],
   "source": [
    "BernNB = BernoulliNB(binarize=.1).fit(X_treino, y_treino)\n",
    "print(BernNB)\n",
    "\n",
    "y_predito = BernNB.predict(X_teste)\n",
    "print(accuracy_score(y_teste, y_predito))"
   ]
  },
  {
   "cell_type": "code",
   "execution_count": null,
   "metadata": {
    "collapsed": true
   },
   "outputs": [],
   "source": []
  }
 ],
 "metadata": {
  "anaconda-cloud": {},
  "kernelspec": {
   "display_name": "Python 3.6.9 64-bit",
   "language": "python",
   "name": "python36964biteb923cada2674160ab67027487fa1c13"
  },
  "language_info": {
   "codemirror_mode": {
    "name": "ipython",
    "version": 3
   },
   "file_extension": ".py",
   "mimetype": "text/x-python",
   "name": "python",
   "nbconvert_exporter": "python",
   "pygments_lexer": "ipython3",
   "version": "3.6.9"
  }
 },
 "nbformat": 4,
 "nbformat_minor": 1
}
