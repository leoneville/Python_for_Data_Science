{
 "cells": [
  {
   "cell_type": "code",
   "execution_count": 4,
   "metadata": {
    "collapsed": false
   },
   "outputs": [
    {
     "name": "stdout",
     "output_type": "stream",
     "text": [
      "[[ 21.    160.    110.      2.62 ]\n",
      " [ 21.    160.    110.      2.875]\n",
      " [ 22.8   108.     93.      2.32 ]\n",
      " [ 21.4   258.    110.      3.215]\n",
      " [ 18.7   360.    175.      3.44 ]\n",
      " [ 18.1   225.    105.      3.46 ]\n",
      " [ 14.3   360.    245.      3.57 ]\n",
      " [ 24.4   146.7    62.      3.19 ]\n",
      " [ 22.8   140.8    95.      3.15 ]\n",
      " [ 19.2   167.6   123.      3.44 ]\n",
      " [ 17.8   167.6   123.      3.44 ]\n",
      " [ 16.4   275.8   180.      4.07 ]\n",
      " [ 17.3   275.8   180.      3.73 ]\n",
      " [ 15.2   275.8   180.      3.78 ]\n",
      " [ 10.4   472.    205.      5.25 ]\n",
      " [ 10.4   460.    215.      5.424]\n",
      " [ 14.7   440.    230.      5.345]\n",
      " [ 32.4    78.7    66.      2.2  ]\n",
      " [ 30.4    75.7    52.      1.615]\n",
      " [ 33.9    71.1    65.      1.835]\n",
      " [ 21.5   120.1    97.      2.465]\n",
      " [ 15.5   318.    150.      3.52 ]\n",
      " [ 15.2   304.    150.      3.435]\n",
      " [ 13.3   350.    245.      3.84 ]\n",
      " [ 19.2   400.    175.      3.845]\n",
      " [ 27.3    79.     66.      1.935]\n",
      " [ 26.    120.3    91.      2.14 ]\n",
      " [ 30.4    95.1   113.      1.513]\n",
      " [ 15.8   351.    264.      3.17 ]\n",
      " [ 19.7   145.    175.      2.77 ]\n",
      " [ 15.    301.    335.      3.57 ]\n",
      " [ 21.4   121.    109.      2.78 ]]\n"
     ]
    }
   ],
   "source": [
    "import numpy as np\n",
    "import pandas as pd\n",
    "import seaborn as sns\n",
    "import matplotlib.pyplot as plt\n",
    "\n",
    "from pylab import rcParams\n",
    "from sklearn.neighbors import KNeighborsClassifier\n",
    "from sklearn import preprocessing\n",
    "from sklearn.model_selection import train_test_split\n",
    "from sklearn.metrics import classification_report\n",
    "\n",
    "\n",
    "np.set_printoptions(precision=4, suppress=True)\n",
    "%matplotlib inline\n",
    "rcParams['figure.figsize'] = 7,4\n",
    "sns.set_style('whitegrid')\n",
    "\n",
    "caminho = '/home/leonardo/Artificial Intelligence/LinkedIn Learning/arquivos_de_exercicios_python_para_ciencia_dados_basico/dados/mtcars.csv'\n",
    "carros = pd.read_csv(caminho)\n",
    "carros.columns = ['nomes', 'mpg', 'cyl', 'disp', 'hp', 'drat', 'wt', 'qsec', 'vs',\n",
    "       'am', 'qnt_marchas', 'carb']\n",
    "\n",
    "X = carros[['mpg', 'disp', 'hp', 'wt']].values\n",
    "\n",
    "y = carros['am'].values"
   ]
  },
  {
   "cell_type": "code",
   "execution_count": 6,
   "metadata": {
    "collapsed": false
   },
   "outputs": [],
   "source": [
    "X = preprocessing.scale(X)"
   ]
  },
  {
   "cell_type": "code",
   "execution_count": 7,
   "metadata": {
    "collapsed": true
   },
   "outputs": [],
   "source": [
    "X_treino, X_teste, y_treino, y_teste = train_test_split(X, y, test_size=.33, random_state=17)"
   ]
  },
  {
   "cell_type": "code",
   "execution_count": 8,
   "metadata": {
    "collapsed": false
   },
   "outputs": [
    {
     "name": "stdout",
     "output_type": "stream",
     "text": [
      "KNeighborsClassifier()\n"
     ]
    }
   ],
   "source": [
    "clf = KNeighborsClassifier()\n",
    "clf.fit(X_treino, y_treino)\n",
    "\n",
    "print(clf)"
   ]
  },
  {
   "cell_type": "code",
   "execution_count": 9,
   "metadata": {
    "collapsed": false
   },
   "outputs": [
    {
     "name": "stdout",
     "output_type": "stream",
     "text": [
      "              precision    recall  f1-score   support\n",
      "\n",
      "           0       0.71      1.00      0.83         5\n",
      "           1       1.00      0.67      0.80         6\n",
      "\n",
      "    accuracy                           0.82        11\n",
      "   macro avg       0.86      0.83      0.82        11\n",
      "weighted avg       0.87      0.82      0.82        11\n",
      "\n"
     ]
    }
   ],
   "source": [
    "y_esperado = y_teste\n",
    "y_predito = clf.predict(X_teste)\n",
    "\n",
    "print(classification_report(y_esperado, y_predito))"
   ]
  },
  {
   "cell_type": "code",
   "execution_count": null,
   "metadata": {
    "collapsed": true
   },
   "outputs": [],
   "source": []
  }
 ],
 "metadata": {
  "kernelspec": {
   "display_name": "Python 3.6.9 64-bit",
   "language": "python",
   "name": "python36964biteb923cada2674160ab67027487fa1c13"
  },
  "language_info": {
   "codemirror_mode": {
    "name": "ipython",
    "version": 3
   },
   "file_extension": ".py",
   "mimetype": "text/x-python",
   "name": "python",
   "nbconvert_exporter": "python",
   "pygments_lexer": "ipython3",
   "version": "3.6.9"
  }
 },
 "nbformat": 4,
 "nbformat_minor": 1
}
