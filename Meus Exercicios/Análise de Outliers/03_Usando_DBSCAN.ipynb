{
 "cells": [
  {
   "cell_type": "code",
   "execution_count": 7,
   "metadata": {
    "collapsed": false
   },
   "outputs": [],
   "source": [
    "import pandas as pd\n",
    "import seaborn as sns\n",
    "import matplotlib.pyplot as plt\n",
    "\n",
    "from pylab import rcParams\n",
    "from sklearn.cluster import DBSCAN\n",
    "from collections import Counter\n",
    "\n",
    "%matplotlib inline\n",
    "rcParams['figure.figsize'] = 7.5, 6\n",
    "sns.set_style('whitegrid')\n",
    "\n",
    "df = sns.load_dataset(\"iris\")\n",
    "cols = ['comp da cepa', 'larg da cepa', 'comp da pétala', 'larg da pétala', 'espécie']\n",
    "df.columns = cols\n",
    "X = df[cols[:4]].values\n",
    "y = df['espécie'].values"
   ]
  },
  {
   "cell_type": "code",
   "execution_count": 8,
   "metadata": {
    "collapsed": false
   },
   "outputs": [
    {
     "name": "stdout",
     "output_type": "stream",
     "text": [
      "DBSCAN(eps=0.8, min_samples=19)\n"
     ]
    }
   ],
   "source": [
    "modelo = DBSCAN(eps=0.8, min_samples=19).fit(X)\n",
    "print(modelo)"
   ]
  },
  {
   "cell_type": "code",
   "execution_count": 9,
   "metadata": {
    "collapsed": false
   },
   "outputs": [
    {
     "name": "stdout",
     "output_type": "stream",
     "text": [
      "Counter({1: 94, 0: 50, -1: 6})\n"
     ]
    }
   ],
   "source": [
    "outliers_df = pd.DataFrame(X)\n",
    "\n",
    "print(Counter(modelo.labels_))"
   ]
  },
  {
   "cell_type": "code",
   "execution_count": 10,
   "metadata": {
    "collapsed": false
   },
   "outputs": [
    {
     "name": "stdout",
     "output_type": "stream",
     "text": [
      "       0    1    2    3\n",
      "98   5.1  2.5  3.0  1.1\n",
      "105  7.6  3.0  6.6  2.1\n",
      "117  7.7  3.8  6.7  2.2\n",
      "118  7.7  2.6  6.9  2.3\n",
      "122  7.7  2.8  6.7  2.0\n",
      "131  7.9  3.8  6.4  2.0\n"
     ]
    }
   ],
   "source": [
    "filtro = modelo.labels_ == -1\n",
    "print(outliers_df[filtro])"
   ]
  },
  {
   "cell_type": "code",
   "execution_count": null,
   "metadata": {
    "collapsed": true
   },
   "outputs": [],
   "source": [
    "cores = modelo.labels_\n",
    "\n",
    "plt.scatter(X[:,2], X[:,1], c=cores, s=120)\n",
    "plt.xlabel('Comprimento da Pétala')\n",
    "plt.ylabel('Largura da Ce')"
   ]
  }
 ],
 "metadata": {
  "kernelspec": {
   "display_name": "Python 3.6.9 64-bit",
   "language": "python",
   "name": "python36964biteb923cada2674160ab67027487fa1c13"
  },
  "language_info": {
   "codemirror_mode": {
    "name": "ipython",
    "version": 3
   },
   "file_extension": ".py",
   "mimetype": "text/x-python",
   "name": "python",
   "nbconvert_exporter": "python",
   "pygments_lexer": "ipython3",
   "version": "3.6.9"
  }
 },
 "nbformat": 4,
 "nbformat_minor": 1
}
