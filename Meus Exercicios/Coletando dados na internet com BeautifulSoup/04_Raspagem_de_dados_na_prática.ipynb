{
 "cells": [
  {
   "cell_type": "code",
   "execution_count": 1,
   "metadata": {
    "collapsed": true
   },
   "outputs": [],
   "source": [
    "import re\n",
    "from bs4 import BeautifulSoup as BS\n",
    "from requests import get"
   ]
  },
  {
   "cell_type": "code",
   "execution_count": 2,
   "metadata": {
    "collapsed": true
   },
   "outputs": [],
   "source": [
    "url = 'https://pizzadedados.com'\n",
    "r = get(url)"
   ]
  },
  {
   "cell_type": "code",
   "execution_count": 3,
   "metadata": {
    "collapsed": true
   },
   "outputs": [],
   "source": [
    "sopa = BS(r.content.decode('utf-8'), 'html.parser')"
   ]
  },
  {
   "cell_type": "code",
   "execution_count": 4,
   "metadata": {
    "collapsed": false
   },
   "outputs": [
    {
     "name": "stdout",
     "output_type": "stream",
     "text": [
      "<!DOCTYPE html>\n",
      "<html lang=\"pt-br\">\n",
      " <head>\n",
      "  <meta charset=\"utf-8\"/>\n",
      "  <meta content=\"IE=edge\" http\n"
     ]
    }
   ],
   "source": [
    "print(sopa.prettify()[:100])"
   ]
  },
  {
   "cell_type": "code",
   "execution_count": 5,
   "metadata": {
    "collapsed": false
   },
   "outputs": [
    {
     "name": "stdout",
     "output_type": "stream",
     "text": [
      "/cdn-cgi/l/email-protection#55253c2f2f3431303134313a26153238343c397b363a38\n",
      "https://twitter.com/pizzadedados\n",
      "https://fb.com/pizzadedados\n",
      "https://youtube.com/c/pizzadedados\n",
      "https://www.instagram.com/pizzadedados\n",
      "https://github.com/pizzadedados\n",
      "#about\n",
      "#pizzaiolos\n",
      "https://medium.com/pizzadedados\n",
      "https://podcast.pizzadedados.com/\n",
      "#vemcomagente\n",
      "#vemcomagente\n",
      "/en\n",
      "#about\n",
      "https://guia.datascience.pizza/\n",
      "https://leportella.com\n",
      "https://jtemporal.com\n",
      "https://gusrabbit.com\n",
      "https://itunes.apple.com/us/podcast/pizza-de-dados/id1323137071\n",
      "https://open.spotify.com/show/5k0Ei0MSg5BuiHshr43aSg\n",
      "https://feeds.feedburner.com/PizzaDeDados\n",
      "https://apoia.se/pizzadedados\n",
      "https://databootcamp.com.br\n",
      "https://databootcamp.com.br\n",
      "https://github.com/nrandecker\n"
     ]
    }
   ],
   "source": [
    "for link in sopa.find_all('a'):\n",
    "    print(link.get('href'))"
   ]
  },
  {
   "cell_type": "code",
   "execution_count": 6,
   "metadata": {
    "collapsed": false
   },
   "outputs": [
    {
     "name": "stdout",
     "output_type": "stream",
     "text": [
      "<a aria-label=\"Twitter\" href=\"https://twitter.com/pizzadedados\" target=\"_blank\"><i aria-hidden=\"true\" class=\"icon fa fa-twitter\"></i></a>\n",
      "<a aria-label=\"Facebook\" href=\"https://fb.com/pizzadedados\" target=\"_blank\"><i aria-hidden=\"true\" class=\"icon fa fa-facebook-square\"></i></a>\n",
      "<a aria-label=\"YouTube\" href=\"https://youtube.com/c/pizzadedados\" target=\"_blank\"><i aria-hidden=\"true\" class=\"icon fa fa-youtube-play\"></i></a>\n",
      "<a aria-label=\"Instagram\" href=\"https://www.instagram.com/pizzadedados\" target=\"_blank\"><i aria-hidden=\"true\" class=\"icon fa fa-instagram\"></i></a>\n",
      "<a aria-label=\"Github\" href=\"https://github.com/pizzadedados\" target=\"_blank\"><i aria-hidden=\"true\" class=\"icon fa fa-github-alt\"></i></a>\n",
      "<a class=\"link\" href=\"https://medium.com/pizzadedados\" target=\"_blank\">Revista</a>\n",
      "<a class=\"link\" href=\"https://podcast.pizzadedados.com/\" target=\"_blank\">Episódios</a>\n",
      "<a href=\"https://guia.datascience.pizza/\">datascience.pizza</a>\n",
      "<a class=\"project-link\" href=\"https://leportella.com\">Site</a>\n",
      "<a class=\"project-link\" href=\"https://jtemporal.com\">Site</a>\n",
      "<a class=\"project-link\" href=\"https://gusrabbit.com\">Site</a>\n",
      "<a class=\"project-link\" href=\"https://itunes.apple.com/us/podcast/pizza-de-dados/id1323137071\">\n",
      "<i class=\"icon fa fa-podcast\"></i>  iTunes\r\n",
      "        </a>\n",
      "<a class=\"project-link\" href=\"https://open.spotify.com/show/5k0Ei0MSg5BuiHshr43aSg\">\n",
      "<i class=\"icon fa fa-spotify\"></i>  Spotify\r\n",
      "        </a>\n",
      "<a class=\"project-link\" href=\"https://feeds.feedburner.com/PizzaDeDados\">\n",
      "<i class=\"icon fa fa-rss\"></i>  RSS\r\n",
      "        </a>\n",
      "<a class=\"project-link\" href=\"https://apoia.se/pizzadedados\">Para a campanha</a>\n",
      "<a href=\"https://databootcamp.com.br\">Data Bootcamp</a>\n",
      "<a href=\"https://databootcamp.com.br\"><img src=\"https://databootcamp.com.br/static/img/logo.png\" style=\"background: #1f2845;\"/></a>\n",
      "<a href=\"https://github.com/nrandecker\">Nathan Randecker</a>\n"
     ]
    }
   ],
   "source": [
    "parametros_busca = {'href':re.compile('^http')}\n",
    "for link in sopa.find_all('a', attrs=parametros_busca):\n",
    "    print(link)"
   ]
  },
  {
   "cell_type": "code",
   "execution_count": 7,
   "metadata": {
    "collapsed": false
   },
   "outputs": [
    {
     "name": "stdout",
     "output_type": "stream",
     "text": [
      "https://twitter.com/pizzadedados\n",
      "https://fb.com/pizzadedados\n",
      "https://youtube.com/c/pizzadedados\n",
      "https://www.instagram.com/pizzadedados\n",
      "https://github.com/pizzadedados\n",
      "https://medium.com/pizzadedados\n",
      "https://podcast.pizzadedados.com/\n",
      "https://guia.datascience.pizza/\n",
      "https://leportella.com\n",
      "https://jtemporal.com\n",
      "https://gusrabbit.com\n",
      "https://itunes.apple.com/us/podcast/pizza-de-dados/id1323137071\n",
      "https://open.spotify.com/show/5k0Ei0MSg5BuiHshr43aSg\n",
      "https://feeds.feedburner.com/PizzaDeDados\n",
      "https://apoia.se/pizzadedados\n",
      "https://databootcamp.com.br\n",
      "https://databootcamp.com.br\n",
      "https://github.com/nrandecker\n"
     ]
    }
   ],
   "source": [
    "file = open('pizza_data.txt', 'w')\n",
    "\n",
    "for link in sopa.find_all('a', attrs=parametros_busca):\n",
    "    sopa_link = str(link.get('href'))\n",
    "    print(sopa_link)\n",
    "    file.write(sopa_link)\n",
    "    file.write('\\n')\n",
    "\n",
    "file.flush()\n",
    "file.close()"
   ]
  },
  {
   "cell_type": "code",
   "execution_count": 8,
   "metadata": {
    "collapsed": false
   },
   "outputs": [
    {
     "name": "stdout",
     "output_type": "stream",
     "text": [
      "01_Introdução_ao_BeautifulSoup.ipynb  04_Raspagem_de_dados_na_prática.ipynb\r\n",
      "02_Parseando_dados.ipynb              pizza_data.txt\r\n"
     ]
    }
   ],
   "source": [
    "ls"
   ]
  },
  {
   "cell_type": "code",
   "execution_count": null,
   "metadata": {
    "collapsed": true
   },
   "outputs": [],
   "source": []
  }
 ],
 "metadata": {
  "kernelspec": {
   "display_name": "Python 3.6.9 64-bit",
   "language": "python",
   "name": "python36964biteb923cada2674160ab67027487fa1c13"
  },
  "language_info": {
   "codemirror_mode": {
    "name": "ipython",
    "version": 3
   },
   "file_extension": ".py",
   "mimetype": "text/x-python",
   "name": "python",
   "nbconvert_exporter": "python",
   "pygments_lexer": "ipython3",
   "version": "3.6.9"
  }
 },
 "nbformat": 4,
 "nbformat_minor": 1
}
