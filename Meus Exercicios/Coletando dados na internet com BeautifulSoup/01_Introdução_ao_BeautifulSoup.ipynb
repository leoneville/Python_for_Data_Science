{
 "cells": [
  {
   "cell_type": "code",
   "execution_count": 3,
   "metadata": {
    "collapsed": true
   },
   "outputs": [],
   "source": [
    "from bs4 import BeautifulSoup as BS"
   ]
  },
  {
   "cell_type": "code",
   "execution_count": 4,
   "metadata": {
    "collapsed": true
   },
   "outputs": [],
   "source": [
    "doc_html = '''\n",
    "<html><head><title>Pizza de Dados</title></head>\n",
    "<body>\n",
    "<section id=\"about\">\n",
    "        \n",
    " <div class=\"user-details\">\n",
    "  <h1> Sobre o Pizza de Dados </h1>\n",
    "  <p> O Pizza de Dados é uma iniciativa de 3 apaixonados por ciência de dados que viviam discutindo assuntos, links e conselhos de carreira. A vontade de aprender mais e compartilhar conhecimento era comum a todos e a ausência de um canal em português para tratar desses temas, levou à ideia de formar o pizza de dados.</p>\n",
    "\n",
    "  <p> O nome é uma espécie de “homenagem” ao repositório <a href=\"https://guia.datascience.pizza/\">datascience.pizza</a>, que se tornou em pouco tempo uma referência de material de estudos de ciência de dados em português.</p>\n",
    "\n",
    "  <p> Por ser algo feito de forma simples e leve por pessoas que normalmente se enfiam em muitos projetos ao mesmo tempo, o Pizza de Dados tem 3 regras básicas:</p>\n",
    "\n",
    "<ol>\n",
    "    <li>Só vamos fazer isso enquanto estiver divertido para todos;</li>\n",
    "    <li>Não vamos fazer por pressão (de datas, de publicação, de frequência…);</li>\n",
    "    <li>Nem todos os pizzaiolos originais devem estar em um episódio.</li>\n",
    "</ol>\n",
    "\n",
    "  <p> Esperamos que você se divirta, nos dê feedback e aprenda um pouquinho! </p>\n",
    "</div>\n",
    "\n",
    "\n",
    "      </section>\n",
    "    <div class=\"header-links\">\n",
    "        \n",
    "        <a class=\"link\" href=\"#about\" data-scroll>Sobre</a>\n",
    "        <a class=\"link\" href=\"#pizzaiolos\" data-scroll>Quem somos</a>\n",
    "        <a class=\"link\" target=\"_blank\" href=\"https://medium.com/pizzadedados\">Revista</a>\n",
    "        <a class=\"link\" target=\"_blank\" href=\"https://podcast.pizzadedados.com/\">Episódios</a>\n",
    "        <a class=\"link\" href=\"#vemcomagente\" data-scroll>Assine</a>\n",
    "        <a class=\"link\" href=\"#vemcomagente\" data-scroll>Apoie</a>\n",
    "    </div>\n",
    "'''"
   ]
  },
  {
   "cell_type": "code",
   "execution_count": 5,
   "metadata": {
    "collapsed": false
   },
   "outputs": [
    {
     "name": "stdout",
     "output_type": "stream",
     "text": [
      "\n",
      "<html><head><title>Pizza de Dados</title></head>\n",
      "<body>\n",
      "<section id=\"about\">\n",
      "<div class=\"user-details\">\n",
      "<h1> Sobre o Pizza de Dados </h1>\n",
      "<p> O Pizza de Dados é uma iniciativa de 3 apaixonados por ciência de dados que viviam discutindo assuntos, links e conselhos de carreira. A vontade de aprender mais e compartilhar conhecimento era comum a todos e a ausência de um canal em português para tratar desses temas, levou à ideia de formar o pizza de dados.</p>\n",
      "<p> O nome é uma espécie de “homenagem” ao repositório <a href=\"https://guia.datascience.pizza/\">datascience.pizza</a>, que se tornou em pouco tempo uma referência de material de estudos de ciência de dados em português.</p>\n",
      "<p> Por ser algo feito de forma simples e leve por pessoas que normalmente se enfiam em muitos projetos ao mesmo tempo, o Pizza de Dados tem 3 regras básicas:</p>\n",
      "<ol>\n",
      "<li>Só vamos fazer isso enquanto estiver divertido para todos;</li>\n",
      "<li>Não vamos fazer por pressão (de datas, de publicação, de frequência…);</li>\n",
      "<li>Nem todos os pizzaiolos originais devem estar em um episódio.</li>\n",
      "</ol>\n",
      "<p> Esperamos que você se divirta, nos dê feedback e aprenda um pouquinho! </p>\n",
      "</div>\n",
      "</section>\n",
      "<div class=\"header-links\">\n",
      "<a class=\"link\" data-scroll=\"\" href=\"#about\">Sobre</a>\n",
      "<a class=\"link\" data-scroll=\"\" href=\"#pizzaiolos\">Quem somos</a>\n",
      "<a class=\"link\" href=\"https://medium.com/pizzadedados\" target=\"_blank\">Revista</a>\n",
      "<a class=\"link\" href=\"https://podcast.pizzadedados.com/\" target=\"_blank\">Episódios</a>\n",
      "<a class=\"link\" data-scroll=\"\" href=\"#vemcomagente\">Assine</a>\n",
      "<a class=\"link\" data-scroll=\"\" href=\"#vemcomagente\">Apoie</a>\n",
      "</div>\n",
      "</body></html>\n"
     ]
    }
   ],
   "source": [
    "sopa = BS(doc_html, 'html.parser')\n",
    "print(sopa)"
   ]
  },
  {
   "cell_type": "code",
   "execution_count": 6,
   "metadata": {
    "collapsed": false
   },
   "outputs": [
    {
     "name": "stdout",
     "output_type": "stream",
     "text": [
      "<html>\n",
      " <head>\n",
      "  <title>\n",
      "   Pizza de Dados\n",
      "  </title>\n",
      " </head>\n",
      " <body>\n",
      "  <section id=\"about\">\n",
      "   <div class=\"user-details\">\n",
      "    <h1>\n",
      "     Sobre o Pizza de Dados\n",
      "    </h1>\n",
      "    <p>\n",
      "     O Pizza de Dados é uma iniciativa de 3 apaixonados por ciência de dados que viviam discutindo assuntos, links e conselhos de carreira. A vontade de aprender mais e compartilhar conhecimento era comum a todos e a ausê\n"
     ]
    }
   ],
   "source": [
    "print(sopa.prettify()[0:400])"
   ]
  },
  {
   "cell_type": "code",
   "execution_count": 8,
   "metadata": {
    "collapsed": false
   },
   "outputs": [
    {
     "data": {
      "text/plain": [
       "bs4.element.Tag"
      ]
     },
     "execution_count": 8,
     "metadata": {},
     "output_type": "execute_result"
    }
   ],
   "source": [
    "sopa = BeautifulSoup('<b body=\"description\">O primeiro e o mais querido podcast sobre ciência de dados no Brasil</b>', 'html.parser')\n",
    "tag = sopa.b\n",
    "type(tag)"
   ]
  },
  {
   "cell_type": "code",
   "execution_count": 9,
   "metadata": {
    "collapsed": false
   },
   "outputs": [
    {
     "data": {
      "text/plain": [
       "'b'"
      ]
     },
     "execution_count": 9,
     "metadata": {},
     "output_type": "execute_result"
    }
   ],
   "source": [
    "tag.name"
   ]
  },
  {
   "cell_type": "code",
   "execution_count": 10,
   "metadata": {
    "collapsed": true
   },
   "outputs": [],
   "source": [
    "tag.name = 'podcast'"
   ]
  },
  {
   "cell_type": "code",
   "execution_count": 11,
   "metadata": {
    "collapsed": false
   },
   "outputs": [
    {
     "data": {
      "text/plain": [
       "<podcast body=\"description\">O primeiro e o mais querido podcast sobre ciência de dados no Brasil</podcast>"
      ]
     },
     "execution_count": 11,
     "metadata": {},
     "output_type": "execute_result"
    }
   ],
   "source": [
    "tag"
   ]
  },
  {
   "cell_type": "code",
   "execution_count": 12,
   "metadata": {
    "collapsed": false
   },
   "outputs": [
    {
     "data": {
      "text/plain": [
       "'podcast'"
      ]
     },
     "execution_count": 12,
     "metadata": {},
     "output_type": "execute_result"
    }
   ],
   "source": [
    "tag.name"
   ]
  },
  {
   "cell_type": "code",
   "execution_count": 13,
   "metadata": {
    "collapsed": false
   },
   "outputs": [
    {
     "data": {
      "text/plain": [
       "'description'"
      ]
     },
     "execution_count": 13,
     "metadata": {},
     "output_type": "execute_result"
    }
   ],
   "source": [
    "tag['body']"
   ]
  },
  {
   "cell_type": "code",
   "execution_count": 14,
   "metadata": {
    "collapsed": false
   },
   "outputs": [
    {
     "data": {
      "text/plain": [
       "{'body': 'description'}"
      ]
     },
     "execution_count": 14,
     "metadata": {},
     "output_type": "execute_result"
    }
   ],
   "source": [
    "tag.attrs"
   ]
  },
  {
   "cell_type": "code",
   "execution_count": 15,
   "metadata": {
    "collapsed": false
   },
   "outputs": [
    {
     "data": {
      "text/plain": [
       "{'body': 'description', 'id': 3}"
      ]
     },
     "execution_count": 15,
     "metadata": {},
     "output_type": "execute_result"
    }
   ],
   "source": [
    "tag['id'] = 3\n",
    "tag.attrs"
   ]
  },
  {
   "cell_type": "code",
   "execution_count": 16,
   "metadata": {
    "collapsed": false
   },
   "outputs": [
    {
     "data": {
      "text/plain": [
       "<podcast body=\"description\" id=\"3\">O primeiro e o mais querido podcast sobre ciência de dados no Brasil</podcast>"
      ]
     },
     "execution_count": 16,
     "metadata": {},
     "output_type": "execute_result"
    }
   ],
   "source": [
    "tag"
   ]
  },
  {
   "cell_type": "code",
   "execution_count": 17,
   "metadata": {
    "collapsed": false
   },
   "outputs": [
    {
     "data": {
      "text/plain": [
       "{'id': 3}"
      ]
     },
     "execution_count": 17,
     "metadata": {},
     "output_type": "execute_result"
    }
   ],
   "source": [
    "del tag['body']\n",
    "tag.attrs"
   ]
  },
  {
   "cell_type": "code",
   "execution_count": 18,
   "metadata": {
    "collapsed": false
   },
   "outputs": [
    {
     "data": {
      "text/plain": [
       "<podcast id=\"3\">O primeiro e o mais querido podcast sobre ciência de dados no Brasil</podcast>"
      ]
     },
     "execution_count": 18,
     "metadata": {},
     "output_type": "execute_result"
    }
   ],
   "source": [
    "tag"
   ]
  },
  {
   "cell_type": "code",
   "execution_count": 19,
   "metadata": {
    "collapsed": false
   },
   "outputs": [
    {
     "data": {
      "text/plain": [
       "<title>Pizza de Dados</title>"
      ]
     },
     "execution_count": 19,
     "metadata": {},
     "output_type": "execute_result"
    }
   ],
   "source": [
    "sopa = BS(doc_html, 'html.parser')\n",
    "sopa.title"
   ]
  },
  {
   "cell_type": "code",
   "execution_count": 20,
   "metadata": {
    "collapsed": false
   },
   "outputs": [
    {
     "data": {
      "text/plain": [
       "<body>\n",
       "<section id=\"about\">\n",
       "<div class=\"user-details\">\n",
       "<h1> Sobre o Pizza de Dados </h1>\n",
       "<p> O Pizza de Dados é uma iniciativa de 3 apaixonados por ciência de dados que viviam discutindo assuntos, links e conselhos de carreira. A vontade de aprender mais e compartilhar conhecimento era comum a todos e a ausência de um canal em português para tratar desses temas, levou à ideia de formar o pizza de dados.</p>\n",
       "<p> O nome é uma espécie de “homenagem” ao repositório <a href=\"https://guia.datascience.pizza/\">datascience.pizza</a>, que se tornou em pouco tempo uma referência de material de estudos de ciência de dados em português.</p>\n",
       "<p> Por ser algo feito de forma simples e leve por pessoas que normalmente se enfiam em muitos projetos ao mesmo tempo, o Pizza de Dados tem 3 regras básicas:</p>\n",
       "<ol>\n",
       "<li>Só vamos fazer isso enquanto estiver divertido para todos;</li>\n",
       "<li>Não vamos fazer por pressão (de datas, de publicação, de frequência…);</li>\n",
       "<li>Nem todos os pizzaiolos originais devem estar em um episódio.</li>\n",
       "</ol>\n",
       "<p> Esperamos que você se divirta, nos dê feedback e aprenda um pouquinho! </p>\n",
       "</div>\n",
       "</section>\n",
       "<div class=\"header-links\">\n",
       "<a class=\"link\" data-scroll=\"\" href=\"#about\">Sobre</a>\n",
       "<a class=\"link\" data-scroll=\"\" href=\"#pizzaiolos\">Quem somos</a>\n",
       "<a class=\"link\" href=\"https://medium.com/pizzadedados\" target=\"_blank\">Revista</a>\n",
       "<a class=\"link\" href=\"https://podcast.pizzadedados.com/\" target=\"_blank\">Episódios</a>\n",
       "<a class=\"link\" data-scroll=\"\" href=\"#vemcomagente\">Assine</a>\n",
       "<a class=\"link\" data-scroll=\"\" href=\"#vemcomagente\">Apoie</a>\n",
       "</div>\n",
       "</body>"
      ]
     },
     "execution_count": 20,
     "metadata": {},
     "output_type": "execute_result"
    }
   ],
   "source": [
    "sopa.body"
   ]
  },
  {
   "cell_type": "code",
   "execution_count": 21,
   "metadata": {
    "collapsed": false
   },
   "outputs": [
    {
     "data": {
      "text/plain": [
       "<ol>\n",
       "<li>Só vamos fazer isso enquanto estiver divertido para todos;</li>\n",
       "<li>Não vamos fazer por pressão (de datas, de publicação, de frequência…);</li>\n",
       "<li>Nem todos os pizzaiolos originais devem estar em um episódio.</li>\n",
       "</ol>"
      ]
     },
     "execution_count": 21,
     "metadata": {},
     "output_type": "execute_result"
    }
   ],
   "source": [
    "sopa.ol"
   ]
  },
  {
   "cell_type": "code",
   "execution_count": null,
   "metadata": {
    "collapsed": true
   },
   "outputs": [],
   "source": []
  }
 ],
 "metadata": {
  "anaconda-cloud": {},
  "kernelspec": {
   "display_name": "Python 3.6.9 64-bit",
   "language": "python",
   "name": "python36964biteb923cada2674160ab67027487fa1c13"
  },
  "language_info": {
   "codemirror_mode": {
    "name": "ipython",
    "version": 3
   },
   "file_extension": ".py",
   "mimetype": "text/x-python",
   "name": "python",
   "nbconvert_exporter": "python",
   "pygments_lexer": "ipython3",
   "version": "3.6.9"
  }
 },
 "nbformat": 4,
 "nbformat_minor": 1
}
